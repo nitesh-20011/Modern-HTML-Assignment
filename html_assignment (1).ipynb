{
  "nbformat": 4,
  "nbformat_minor": 0,
  "metadata": {
    "colab": {
      "provenance": []
    },
    "kernelspec": {
      "name": "python3",
      "display_name": "Python 3"
    },
    "language_info": {
      "name": "python"
    }
  },
  "cells": [
    {
      "cell_type": "markdown",
      "source": [
        "# modern html assignment\n",
        "\n"
      ],
      "metadata": {
        "id": "ZwoLnWa2Ckuz"
      }
    },
    {
      "cell_type": "markdown",
      "source": [
        "1.  List out the features of HTMLs?\n",
        "\n",
        " - Hyperlink Support: Connects to other web pages using <a> tags.\n",
        "\n",
        "Multimedia Integration: Supports images, audio, and video embedding.\n",
        "\n",
        "Semantic Structure: HTML5 provides semantic tags like <article>, <section>, <header>, etc.\n",
        "\n",
        "Form Elements: Rich form controls like <input>, <select>, <textarea>, etc.\n",
        "\n",
        "Offline Capabilities: HTML5 supports offline web applications.\n",
        "\n",
        "Local Storage: HTML5 provides localStorage and sessionStorage.\n",
        "\n",
        "HTML Entities are special codes used to display reserved characters (like <, >, &) in the browser.\n",
        "\n",
        "2. What are HTML Entities? List out 5 commonly used HTML entities?\n",
        "\n",
        " - 5 Common HTML Entities:\n",
        "\n",
        "\n",
        "Entity\tCharacter\tDescription\n",
        "&lt;\t<\tLess than\n",
        "&gt;\t>\tGreater than\n",
        "&amp;\t&\tAmpersand\n",
        "&quot;\t\"\tDouble quote\n",
        "&nbsp;\t \tNon-breaking space\n",
        "3. Define accessibility in the context of web development. Discuss why it's essential to create accessible websites and how it benefits different user groups?\n",
        "   - Accessibility in Web Development:\n",
        "Definition:\n",
        "Accessibility in web development means designing websites that can be used by everyone, including people with disabilities (visual, auditory, cognitive, motor impairments).\n",
        "\n",
        "Why It’s Essential:\n",
        "Promotes inclusivity.\n",
        "\n",
        "Complies with legal regulations (like WCAG, ADA).\n",
        "\n",
        "Improves SEO and user experience.\n",
        "\n",
        "Enhances usability for elderly users or those with temporary impairments (e.g., broken arm, bright sunlight).\n",
        "\n",
        "Who Benefits:\n",
        "\n",
        "Screen reader users (blind or low vision).\n",
        "\n",
        "Keyboard-only users (motor disabilities).\n",
        "\n",
        "Users with color blindness or cognitive limitations.\n",
        "\n",
        "Mobile users and users in low-bandwidth environments.\n",
        "\n",
        "4. List any 3 ways which help us in improving the accessibility of HTMl?\n",
        "\n",
        "  - Three Ways to Improve Accessibility in HTML:\n",
        "Use Semantic HTML Tags: e.g., <nav>, <main>, <footer>, which help assistive technologies understand structure.\n",
        "\n",
        "Add alt Attributes to Images: Describes the image for screen reader users.\n",
        "\n",
        "Use ARIA Roles and Labels: Provides extra accessibility features when semantic tags are not enough."
      ],
      "metadata": {
        "id": "h8XNWl4aDmP7"
      }
    },
    {
      "cell_type": "code",
      "source": [
        "# Create a web page that highlights the features of HTML5. Use appropriate semantic tags to structure the content and showcase at least three key features of HTML5 with explanations?\n",
        "\n",
        "<!DOCTYPE html>\n",
        "<html lang=\"en\">\n",
        "<head>\n",
        "  <meta charset=\"UTF-8\">\n",
        "  <title>HTML5 Features</title>\n",
        "</head>\n",
        "<body>\n",
        "  <header>\n",
        "    <h1>Key Features of HTML5</h1>\n",
        "  </header>\n",
        "\n",
        "  <section>\n",
        "    <article>\n",
        "      <h2>1. Semantic Elements</h2>\n",
        "      <p>HTML5 introduced elements like <code>&lt;article&gt;</code>, <code>&lt;section&gt;</code>, <code>&lt;header&gt;</code> to give structure and meaning to content.</p>\n",
        "    </article>\n",
        "\n",
        "    <article>\n",
        "      <h2>2. Multimedia Support</h2>\n",
        "      <p>Native support for <code>&lt;audio&gt;</code> and <code>&lt;video&gt;</code> without the need for external plugins.</p>\n",
        "      <video controls width=\"320\">\n",
        "        <source src=\"sample.mp4\" type=\"video/mp4\">\n",
        "        Your browser does not support the video tag.\n",
        "      </video>\n",
        "    </article>\n",
        "\n",
        "    <article>\n",
        "      <h2>3. Offline and Storage Capabilities</h2>\n",
        "      <p>HTML5 offers localStorage and sessionStorage for storing data in the browser and supports offline web applications.</p>\n",
        "    </article>\n",
        "  </section>\n",
        "\n",
        "  <footer>\n",
        "    <p>&copy; 2025 HTML5 Learning Page</p>\n",
        "  </footer>\n",
        "</body>\n",
        "</html>"
      ],
      "metadata": {
        "id": "zsaIfce-EfrH"
      },
      "execution_count": null,
      "outputs": []
    },
    {
      "cell_type": "code",
      "source": [
        "# Create a simple web page which has a table. The table must have 2 columns HTML and HTML5. The table should include a minimum of three rows describing the differences between HTML and HTML5?\n",
        "\n",
        "\n",
        "<!DOCTYPE html>\n",
        "<html lang=\"en\">\n",
        "<head>\n",
        "  <meta charset=\"UTF-8\">\n",
        "  <title>HTML vs HTML5</title>\n",
        "  <style>\n",
        "    table {\n",
        "      width: 80%;\n",
        "      border-collapse: collapse;\n",
        "      margin: 20px auto;\n",
        "    }\n",
        "    th, td {\n",
        "      border: 1px solid #333;\n",
        "      padding: 10px;\n",
        "      text-align: left;\n",
        "    }\n",
        "    th {\n",
        "      background-color: #f4f4f4;\n",
        "    }\n",
        "  </style>\n",
        "</head>\n",
        "<body>\n",
        "  <h1 style=\"text-align:center;\">HTML vs HTML5</h1>\n",
        "  <table>\n",
        "    <tr>\n",
        "      <th>HTML</th>\n",
        "      <th>HTML5</th>\n",
        "    </tr>\n",
        "    <tr>\n",
        "      <td>No native support for audio and video.</td>\n",
        "      <td>Supports <code>&lt;audio&gt;</code> and <code>&lt;video&gt;</code> tags.</td>\n",
        "    </tr>\n",
        "    <tr>\n",
        "      <td>Limited form control elements.</td>\n",
        "      <td>Includes new input types like <code>date</code>, <code>email</code>, <code>range</code>.</td>\n",
        "    </tr>\n",
        "    <tr>\n",
        "      <td>No support for local storage.</td>\n",
        "      <td>Supports <code>localStorage</code> and <code>sessionStorage</code>.</td>\n",
        "    </tr>\n",
        "  </table>\n",
        "</body>\n",
        "</html>"
      ],
      "metadata": {
        "id": "-0pQ48zuFG5_"
      },
      "execution_count": null,
      "outputs": []
    },
    {
      "cell_type": "markdown",
      "source": [
        "\n"
      ],
      "metadata": {
        "id": "xDJXw8DF_plJ"
      }
    }
  ]
}